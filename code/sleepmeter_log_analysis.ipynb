{
 "cells": [
  {
   "cell_type": "markdown",
   "metadata": {},
   "source": [
    "# Sleepmeter non-24 circadian rhythm disorder single-case analysis\n",
    "\n",
    "Notebook to analyze the sleep log data of a single case of non-24 circadian rhythm disorder, acquired with Sleepmeter on Android.\n",
    "\n",
    "By Stephen Karl Larroque (2020)\n",
    "\n",
    "Licensed under MIT\n",
    "\n",
    "Still a work in progress. Runs under Python 3"
   ]
  },
  {
   "cell_type": "code",
   "execution_count": null,
   "metadata": {},
   "outputs": [],
   "source": [
    "# Forcefully autoreload all python modules\n",
    "%load_ext autoreload\n",
    "%autoreload 2"
   ]
  },
  {
   "cell_type": "code",
   "execution_count": null,
   "metadata": {},
   "outputs": [],
   "source": [
    "from io import StringIO\n",
    "import pandas as pd\n",
    "import datetime\n",
    "import matplotlib.pyplot as plt"
   ]
  },
  {
   "cell_type": "code",
   "execution_count": null,
   "metadata": {},
   "outputs": [],
   "source": [
    "# PARAMETERS - EDIT ME\n",
    "csvpath = r'sleep_history_2020-05-04.1.csv'  # path to the exported sleep log data (from Sleepmeter menu, select Manage Databases and then send the csv to your email)\n"
   ]
  },
  {
   "cell_type": "markdown",
   "metadata": {},
   "source": [
    "## Load and cleaning sleep log data"
   ]
  },
  {
   "cell_type": "code",
   "execution_count": null,
   "metadata": {},
   "outputs": [],
   "source": [
    "def load_csv_multi_tables(filepath):\n",
    "    \"\"\"Load a csv containing multiple tables into multiple pandas DataFrames\"\"\"\n",
    "    # From: https://stackoverflow.com/questions/36904691/pd-read-csv-multiple-tables-and-parse-data-frames-using-index-0\n",
    "    \n",
    "    # Load the csv and detect when there is a space, then split into a virtual file\n",
    "    subfiles = [StringIO()]\n",
    "    with open(filepath) as bigfile:\n",
    "        for line in bigfile:\n",
    "            if line.strip() == \"\": # blank line, new subfile                                                                                                                                       \n",
    "                subfiles.append(StringIO())\n",
    "            else: # continuation of same subfile                                                                                                                                                   \n",
    "                subfiles[-1].write(line)\n",
    "\n",
    "    # For each virtual file, load up as a csv in a pandas DataFrame\n",
    "    tables = []\n",
    "    for subfile in subfiles:\n",
    "        subfile.seek(0)\n",
    "        tables.append(pd.read_csv(subfile, sep=','))\n",
    "    return tables"
   ]
  },
  {
   "cell_type": "code",
   "execution_count": null,
   "metadata": {},
   "outputs": [],
   "source": [
    "tables = load_csv_multi_tables(csvpath)"
   ]
  },
  {
   "cell_type": "code",
   "execution_count": null,
   "metadata": {
    "scrolled": true
   },
   "outputs": [],
   "source": [
    "# Load the main sleep log table and convert some columns to datetime objects, will ease time difference calculations\n",
    "sleeplog = tables[3] #.set_index(tables[3].columns[0])\n",
    "#sleeplog.index = pd.to_datetime(sleeplog.index)\n",
    "sleeplog['wake'] = pd.to_datetime(sleeplog['wake'], utc=True)\n",
    "sleeplog['sleep'] = pd.to_datetime(sleeplog['sleep'], utc=True)\n",
    "sleeplog['bedtime'] = pd.to_datetime(sleeplog['bedtime'], utc=True)\n",
    "sleeplog"
   ]
  },
  {
   "cell_type": "code",
   "execution_count": null,
   "metadata": {},
   "outputs": [],
   "source": [
    "# Calculate sleep duration\n",
    "sleeplog['duration'] = sleeplog['wake'] - sleeplog['sleep']\n",
    "# Reorder columns\n",
    "sleeplog = sleeplog[['bedtime', 'sleep', 'wake', 'duration'] + list(sleeplog.columns[3:-1])]\n",
    "sleeplog"
   ]
  },
  {
   "cell_type": "code",
   "execution_count": null,
   "metadata": {},
   "outputs": [],
   "source": [
    "# Detect naps that were wrongly typed as night sleeps\n",
    "\n",
    "nightsleepmin = {'hours': 4, 'minutes': 35}  # minimum duration in hours to consider a sleep night, any shorter sleep will be considered a nap\n",
    "napdiff_threshold = {'hours': 7}  # in datetime.timedelta() format\n",
    "\n",
    "def detect_naps(sleeplog_in, nightsleepmin=None, napdiff_threshold=None):\n",
    "    \"\"\"Detect naps based on timing and duration\n",
    "    This is very important to remove outliers that will mess up the calculation of longitudinal wake up time difference (because if a nap is wrongly typed, then the wake up time of the nap will interfere between 2 real night sleeps!)\"\"\"\n",
    "    sleeplog = sleeplog_in.copy()\n",
    "    # Copy the type column\n",
    "    sleeplog.loc[:, 'type_cleaned'] = sleeplog.loc[:, 'type']\n",
    "    # NAP DETECTED BY SHORT DURATION\n",
    "    if nightsleepmin is not None:\n",
    "        sleeplog.loc[sleeplog['duration'] < datetime.timedelta(**nightsleepmin), 'type_cleaned'] = 'NAP'\n",
    "    # NAP DETECTED BY TIME DIFFERENCE\n",
    "    if napdiff_threshold is not None:\n",
    "        for idx in sleeplog.index[:-1]:\n",
    "            if (\n",
    "                not (sleeplog.loc[idx, 'type'] == 'NAP' or sleeplog.loc[idx+1, 'type'] == 'NAP')  # check if neither is a nap, then we check the time difference\n",
    "                and (sleeplog.loc[idx, 'sleep'] - sleeplog.loc[idx+1, 'wake'] < datetime.timedelta(**napdiff_threshold))  # check if the difference between the previous sleep wake up time and next asleep time is under the threshold (ie, only a few hours between the last wake up and the next asleep state, one of them is likely a nap)\n",
    "               ):\n",
    "                # NAP DETECTED BY TIME DIFFERENCE\n",
    "                # We now have to select which one is a nap, we select the one with the smallest duration (TODO: we could find another more precise way to infer?)\n",
    "                if sleeplog.loc[idx, 'duration'] < sleeplog.loc[idx+1, 'duration']:\n",
    "                    sleeplog.loc[idx, 'type_cleaned'] = 'NAP'\n",
    "                elif sleeplog.loc[idx, 'duration'] > sleeplog.loc[idx+1, 'duration']:\n",
    "                    sleeplog.loc[idx+1, 'type_cleaned'] = 'NAP'\n",
    "                else:\n",
    "                    sleeplog.loc[idx, 'type_cleaned'] = 'NAP'\n",
    "                    sleeplog.loc[idx+1, 'type_cleaned'] = 'NAP'\n",
    "    return sleeplog\n",
    "\n",
    "sleeplog_napsfixed = detect_naps(sleeplog, nightsleepmin, napdiff_threshold)\n",
    "sleeplog_napsfixed"
   ]
  },
  {
   "cell_type": "code",
   "execution_count": null,
   "metadata": {},
   "outputs": [],
   "source": [
    "# Show sleep log where nap was fixed\n",
    "sleeplog_napsfixed[sleeplog_napsfixed['type'] != sleeplog_napsfixed['type_cleaned']]"
   ]
  },
  {
   "cell_type": "markdown",
   "metadata": {},
   "source": [
    "## Wake-up time variability analysis\n",
    "\n",
    "Analyze how much the wake-up time (which is a reliable enough predictor of the circadian rhythm) varies over the whole sleep log."
   ]
  },
  {
   "cell_type": "code",
   "execution_count": null,
   "metadata": {},
   "outputs": [],
   "source": [
    "# Extract night sleeps only\n",
    "sleeplognight = sleeplog_napsfixed[sleeplog_napsfixed['type_cleaned'] == 'NIGHT_SLEEP']\n",
    "sleeplognight"
   ]
  },
  {
   "cell_type": "code",
   "execution_count": null,
   "metadata": {},
   "outputs": [],
   "source": [
    "# Extract only wake up times as a pandas Series\n",
    "wakeuptimes = pd.Series(sleeplognight['wake'])\n",
    "wakeuptimes"
   ]
  },
  {
   "cell_type": "code",
   "execution_count": null,
   "metadata": {},
   "outputs": [],
   "source": [
    "# Calculate the longitudinal difference of wake-up time, ie, how much time difference there is in the wake up time between each consecutive night sleeps\n",
    "\n",
    "def calc_timediff(wakeuptimes):\n",
    "    \"\"\"Calculates the framewise displacement of wake up times, in other words the difference of time between the wake up time at one day compared to the previous one\n",
    "    Expects a Series in pd.to_datetime format, with the latest date at the top and earliest at the bottom\n",
    "    It is important to trim naps and consider only night sleeps here.\n",
    "    Also note that the date is NOT accounted for, which has the advantage of allowing for gaps between multiple days, or considering sleeps that happen in the same day (eg, sleep at midnight one day, then at 23h later the same day).\n",
    "    The goal here is to evaluate the stability of the wake up time, hence we only care about the wake up time difference irrespective of what day it happened.\"\"\"\n",
    "    timediff = []\n",
    "    wakeuptimes = wakeuptimes.reset_index(drop=True)\n",
    "    for i in range(len(wakeuptimes)-1):\n",
    "        # Old way by subtracting one day on the next day, incorrect and mess up calculations if naps were wrongly labeled as night_sleep\n",
    "        #timediff.append((wakeuptimes[i] - datetime.timedelta(days=1) - wakeuptimes[i+1]).total_seconds() / 60)\n",
    "\n",
    "        # Correct calculation by removing the date and subtracts only the time\n",
    "        # Naps can still mess up things but that's not somethin to fix here but in preprocessing (try to detect naps, but it's difficult)\n",
    "        # Note that with this calculation we don't care if there is a gap, ie, when pulling an all nighter and skipping sleep altogether for a day, we only care about what time we wake up compared to last time, even if several days ago\n",
    "        nextday_delta = datetime.timedelta(hours=wakeuptimes[i].hour, minutes=wakeuptimes[i].minute, seconds=wakeuptimes[i].second)\n",
    "        prevday_delta = datetime.timedelta(hours=wakeuptimes[i+1].hour, minutes=wakeuptimes[i+1].minute, seconds=wakeuptimes[i+1].second)\n",
    "        diff = ((nextday_delta - prevday_delta).total_seconds() / 60 / 60)\n",
    "\n",
    "        # Trick to keep the timing difference in bounds: since a day is cyclic (24h), we compute the smallest distance as the smallest absolute Galois Field value. In other words: is it shorter to consider that I slept earlier the next day, or later? We keep the shortest value, but restore the sign.\n",
    "        if abs(diff % 24) < abs(diff):\n",
    "            diff = diff % 24\n",
    "            # Implicit else: we keep diff not mod 24\n",
    "\n",
    "        # Add in the list of timediffs\n",
    "        timediff.append(diff * 60)\n",
    "\n",
    "    return timediff[::-1]  # reverse order and return\n",
    "\n",
    "timediff = pd.Series(calc_timediff(wakeuptimes), index=wakeuptimes[::-1][1:]) # [0:-1])\n",
    "timediffhours = timediff/60\n",
    "timediffhours"
   ]
  },
  {
   "cell_type": "code",
   "execution_count": null,
   "metadata": {},
   "outputs": [],
   "source": [
    "# Plot the raw result!\n",
    "timediffhours.plot()"
   ]
  },
  {
   "cell_type": "code",
   "execution_count": null,
   "metadata": {},
   "outputs": [],
   "source": [
    "# Plot rolling standard deviation (over 3 days)\n",
    "timediffhours.rolling(3).std().plot()"
   ]
  },
  {
   "cell_type": "code",
   "execution_count": null,
   "metadata": {},
   "outputs": [],
   "source": [
    "# Plot rolling standard deviation (over 15 days)\n",
    "timediffhours.rolling(15).std().plot()"
   ]
  },
  {
   "cell_type": "code",
   "execution_count": null,
   "metadata": {},
   "outputs": [],
   "source": [
    "# Plot rolling standard deviation (over 31 days)\n",
    "timediffhours.rolling(31).std().plot()"
   ]
  },
  {
   "cell_type": "code",
   "execution_count": null,
   "metadata": {},
   "outputs": [],
   "source": [
    "# Plot rolling median (over 3 days)\n",
    "timediffhours.rolling(3).median().plot()"
   ]
  },
  {
   "cell_type": "code",
   "execution_count": null,
   "metadata": {},
   "outputs": [],
   "source": [
    "# Plot rolling median (over 15 days)\n",
    "timediffhours.rolling(15).median().plot()"
   ]
  },
  {
   "cell_type": "code",
   "execution_count": null,
   "metadata": {},
   "outputs": [],
   "source": [
    "# Plot rolling median (over 31 days)\n",
    "timediffhours.rolling(31).median().plot()"
   ]
  },
  {
   "cell_type": "code",
   "execution_count": null,
   "metadata": {},
   "outputs": [],
   "source": [
    "# Plot smoothed signal using a savgol filter\n",
    "from scipy.signal import savgol_filter\n",
    "yhat = savgol_filter(timediffhours, 51, 3) # window size 51, polynomial order 3\n",
    "plt.plot(yhat)"
   ]
  },
  {
   "cell_type": "code",
   "execution_count": null,
   "metadata": {},
   "outputs": [],
   "source": [
    "# Plot with a median filter (from scipy)\n",
    "from scipy.signal import medfilt\n",
    "yhat = medfilt(timediffhours, 9)\n",
    "plt.plot(yhat)"
   ]
  },
  {
   "cell_type": "code",
   "execution_count": null,
   "metadata": {},
   "outputs": [],
   "source": [
    "# Outliers? Hidden Naps (positive sign = sleep way later)?\n",
    "timediffhours[timediffhours > 10]"
   ]
  },
  {
   "cell_type": "code",
   "execution_count": null,
   "metadata": {},
   "outputs": [],
   "source": [
    "# Outliers? Hidden naps again (negative sign = sleep way earlier)?\n",
    "timediffhours[timediffhours < -10]"
   ]
  },
  {
   "cell_type": "code",
   "execution_count": null,
   "metadata": {},
   "outputs": [],
   "source": [
    "# Show descriptive stats, in hour format\n",
    "print(\"The daily phase delay is %g hours at median and %g (varying +-%g) hours on average.\" % (timediffhours.median(), timediffhours.mean(), timediffhours.std()))  # median daily phase delay, in hours\n",
    "timediffhours.describe()"
   ]
  },
  {
   "cell_type": "code",
   "execution_count": null,
   "metadata": {},
   "outputs": [],
   "source": [
    "# Show descriptive stats, in minutes format\n",
    "print(\"The daily phase delay is %g minutes at median and %g (varying +-%g) minutes on average.\" % (timediff.median(), timediff.mean(), timediff.std()))  # median daily phase delay, in minutes\n",
    "timediff.describe()"
   ]
  },
  {
   "cell_type": "markdown",
   "metadata": {},
   "source": [
    "## Naps and sleep disruption analysis\n",
    "\n",
    "Analyze the evolution of naps and sleep disruptions (holes), which are good indicators of sleep quality (the less holes and naps, the better sleep quality)."
   ]
  },
  {
   "cell_type": "code",
   "execution_count": null,
   "metadata": {},
   "outputs": [],
   "source": [
    "# Extract naps only\n",
    "sleeplognaps = sleeplog_napsfixed[sleeplog_napsfixed['type_cleaned'] == 'NAP']\n",
    "sleeplognaps"
   ]
  },
  {
   "cell_type": "code",
   "execution_count": null,
   "metadata": {},
   "outputs": [],
   "source": [
    "# Naps count evolution\n",
    "sleeplognaps2 = sleeplognaps[['wake', 'type_cleaned']]\n",
    "sleeplognaps2.loc[:, 'wake'] = pd.to_datetime(sleeplognaps2['wake'], utc=True)\n",
    "napcount = sleeplognaps2.groupby([pd.Grouper(freq='W', key='wake')]).count()\n",
    "# Remove first and last months because they have incomplete data\n",
    "#napcount = napcount[1:-1]\n",
    "napcount.plot()"
   ]
  },
  {
   "cell_type": "code",
   "execution_count": null,
   "metadata": {},
   "outputs": [],
   "source": [
    "napcount"
   ]
  },
  {
   "cell_type": "code",
   "execution_count": null,
   "metadata": {},
   "outputs": [],
   "source": [
    "# Count number of nights with holes (sleep disruption)\n",
    "holescount = sleeplognight.dropna(subset=['holes'])[['wake', 'type_cleaned']].groupby([pd.Grouper(freq='W', key='wake')]).count()\n",
    "holescount = holescount[1:-1]\n",
    "holescount.plot()"
   ]
  },
  {
   "cell_type": "code",
   "execution_count": null,
   "metadata": {},
   "outputs": [],
   "source": [
    "holescount"
   ]
  },
  {
   "cell_type": "code",
   "execution_count": null,
   "metadata": {},
   "outputs": [],
   "source": [
    "# Plot evolution of both naps and sleep disruptions (holes)\n",
    "(napcount + holescount).plot()"
   ]
  },
  {
   "cell_type": "code",
   "execution_count": null,
   "metadata": {},
   "outputs": [],
   "source": [
    "(napcount + holescount)"
   ]
  },
  {
   "cell_type": "code",
   "execution_count": null,
   "metadata": {},
   "outputs": [],
   "source": [
    "# TODO: Split into periods given a list of start dates for the next period, and name them on graph with\n",
    "# vertical lines to separate\n"
   ]
  }
 ],
 "metadata": {
  "kernelspec": {
   "display_name": "Python 3",
   "language": "python",
   "name": "python3"
  },
  "language_info": {
   "codemirror_mode": {
    "name": "ipython",
    "version": 3
   },
   "file_extension": ".py",
   "mimetype": "text/x-python",
   "name": "python",
   "nbconvert_exporter": "python",
   "pygments_lexer": "ipython3",
   "version": "3.7.6"
  }
 },
 "nbformat": 4,
 "nbformat_minor": 2
}
